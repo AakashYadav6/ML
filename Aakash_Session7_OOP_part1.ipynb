{
  "nbformat": 4,
  "nbformat_minor": 0,
  "metadata": {
    "colab": {
      "provenance": [],
      "authorship_tag": "ABX9TyP0xM3mjmdbDIrQEL2P886H",
      "include_colab_link": true
    },
    "kernelspec": {
      "name": "python3",
      "display_name": "Python 3"
    },
    "language_info": {
      "name": "python"
    }
  },
  "cells": [
    {
      "cell_type": "markdown",
      "metadata": {
        "id": "view-in-github",
        "colab_type": "text"
      },
      "source": [
        "<a href=\"https://colab.research.google.com/github/AakashYadav6/ML/blob/main/Aakash_Session7_OOP_part1.ipynb\" target=\"_parent\"><img src=\"https://colab.research.google.com/assets/colab-badge.svg\" alt=\"Open In Colab\"/></a>"
      ]
    },
    {
      "cell_type": "code",
      "source": [
        "#everything in python is object\n",
        "#list tuple set are classes   append are methods/functions\n",
        "# when we create list it is object\n",
        "#we can create own datatypes\n",
        "#class is a blueprint\n",
        "\n",
        "\n"
      ],
      "metadata": {
        "id": "U2W5bDJl7QPm"
      },
      "execution_count": null,
      "outputs": []
    },
    {
      "cell_type": "code",
      "execution_count": null,
      "metadata": {
        "colab": {
          "base_uri": "https://localhost:8080/",
          "height": 183
        },
        "id": "rqiNV1Xjv8L4",
        "outputId": "512bc0f0-99cd-4b7b-dae1-93a01d5ab179"
      },
      "outputs": [
        {
          "output_type": "error",
          "ename": "AttributeError",
          "evalue": "ignored",
          "traceback": [
            "\u001b[0;31m---------------------------------------------------------------------------\u001b[0m",
            "\u001b[0;31mAttributeError\u001b[0m                            Traceback (most recent call last)",
            "\u001b[0;32m<ipython-input-2-97f5dddf8d10>\u001b[0m in \u001b[0;36m<module>\u001b[0;34m\u001b[0m\n\u001b[1;32m      1\u001b[0m \u001b[0ml\u001b[0m \u001b[0;34m=\u001b[0m\u001b[0;34m[\u001b[0m\u001b[0;36m1\u001b[0m\u001b[0;34m,\u001b[0m\u001b[0;36m2\u001b[0m\u001b[0;34m,\u001b[0m\u001b[0;36m3\u001b[0m\u001b[0;34m]\u001b[0m\u001b[0;34m\u001b[0m\u001b[0;34m\u001b[0m\u001b[0m\n\u001b[0;32m----> 2\u001b[0;31m \u001b[0ml\u001b[0m\u001b[0;34m.\u001b[0m\u001b[0mupper\u001b[0m\u001b[0;34m(\u001b[0m\u001b[0;34m)\u001b[0m\u001b[0;34m\u001b[0m\u001b[0;34m\u001b[0m\u001b[0m\n\u001b[0m",
            "\u001b[0;31mAttributeError\u001b[0m: 'list' object has no attribute 'upper'"
          ]
        }
      ],
      "source": [
        "l =[1,2,3]\n",
        "l.upper()"
      ]
    },
    {
      "cell_type": "code",
      "source": [
        ">>>s ='hello'\n",
        "s.append('x')"
      ],
      "metadata": {
        "colab": {
          "base_uri": "https://localhost:8080/",
          "height": 183
        },
        "id": "C869LV70yH2w",
        "outputId": "96da2578-f5dd-4158-a189-1532484c1a9c"
      },
      "execution_count": null,
      "outputs": [
        {
          "output_type": "error",
          "ename": "AttributeError",
          "evalue": "ignored",
          "traceback": [
            "\u001b[0;31m---------------------------------------------------------------------------\u001b[0m",
            "\u001b[0;31mAttributeError\u001b[0m                            Traceback (most recent call last)",
            "\u001b[0;32m<ipython-input-1-f7d4f462fcbf>\u001b[0m in \u001b[0;36m<module>\u001b[0;34m\u001b[0m\n\u001b[1;32m      1\u001b[0m \u001b[0ms\u001b[0m \u001b[0;34m=\u001b[0m\u001b[0;34m'hello'\u001b[0m\u001b[0;34m\u001b[0m\u001b[0;34m\u001b[0m\u001b[0m\n\u001b[0;32m----> 2\u001b[0;31m \u001b[0ms\u001b[0m\u001b[0;34m.\u001b[0m\u001b[0mappend\u001b[0m\u001b[0;34m(\u001b[0m\u001b[0;34m'x'\u001b[0m\u001b[0;34m)\u001b[0m\u001b[0;34m\u001b[0m\u001b[0;34m\u001b[0m\u001b[0m\n\u001b[0m",
            "\u001b[0;31mAttributeError\u001b[0m: 'str' object has no attribute 'append'"
          ]
        }
      ]
    },
    {
      "cell_type": "code",
      "source": [
        "#object is an instance of class\n",
        "#class is a blueprint\n",
        "\n",
        "\n",
        "#user defined class and built-in class\n",
        "\n"
      ],
      "metadata": {
        "id": "4T8mbnWXyMRN"
      },
      "execution_count": null,
      "outputs": []
    },
    {
      "cell_type": "code",
      "source": [
        "#syntax to create an object\n",
        "\n",
        "#objectname = classname()\n",
        "L =list()\n"
      ],
      "metadata": {
        "id": "zkseH6fM8sB6"
      },
      "execution_count": null,
      "outputs": []
    },
    {
      "cell_type": "code",
      "source": [
        "L =[1,2,3]"
      ],
      "metadata": {
        "id": "9hq0seew89JO"
      },
      "execution_count": null,
      "outputs": []
    },
    {
      "cell_type": "code",
      "source": [
        "#pascal case\n",
        "#HelloWorld"
      ],
      "metadata": {
        "id": "nin2-9lT9cx1"
      },
      "execution_count": null,
      "outputs": []
    },
    {
      "cell_type": "code",
      "source": [
        "class Atm:\n",
        "  # constructor(special function) --superpower --> self called\n",
        "  def __init__(self):\n",
        "      self.pin =''\n",
        "      self.balance = 0\n",
        "      self.menu()\n",
        "\n",
        "\n",
        "  def menu(self):\n",
        "      user_input =input('''\n",
        "    Hi How can I help you?\n",
        "    1.press 1 to create pin\n",
        "    2.press 2 to change pin\n",
        "    3.press 3 to check balance\n",
        "    4.press 4 to withdraw\n",
        "    5.anything else to exit\n",
        "\n",
        "\n",
        "\n",
        "    ''')\n",
        "      if user_input == '1':\n",
        "         #create pin\n",
        "            self.create_pin()\n",
        "      elif user_input == '2':\n",
        "         #change pin\n",
        "         self.change_pin()\n",
        "      elif user_input == '3':\n",
        "          #check balance\n",
        "          self.check_balance()\n",
        "      elif user_input == '4':\n",
        "         #withdraw\n",
        "         self.withdraw()\n",
        "      else:\n",
        "           exit()\n",
        "\n",
        "  def create_pin(self):\n",
        "     user_name = input (\"enter your pin:\")\n",
        "     self.pin = user_name\n",
        "\n",
        "     user_balance = int(input(\"enter balance:\"))\n",
        "     self.balance = user_balance\n",
        "\n",
        "     print(\"pin created successfully\")\n",
        "     self.menu()\n",
        "\n",
        "  def change_pin(self):\n",
        "    old_pin = input(\"enter old pin\")\n",
        "\n",
        "    if old_pin ==self.pin :\n",
        "      #let him change the pin\n",
        "      new_pin = input('enter new pin ')\n",
        "      self.pin = new_pin\n",
        "      print('pin changed successful')\n",
        "      self.menu()\n",
        "\n",
        "    else:\n",
        "      print('nai krne de sakta re baba')\n",
        "      self.menu()\n",
        "\n",
        "  def check_balance(self):\n",
        "    user_pin =input(\"enter your pin:\")\n",
        "    if user_pin == self.pin:\n",
        "      print(\"your balance is\",self.balance)\n",
        "    else:\n",
        "      print(\"chal nikal yahan se\")\n",
        "\n",
        "  def withdraw(self):\n",
        "    pin =input(\"enter the pin\")\n",
        "    if pin == self.pin:\n",
        "      amount =int(input(\"Enter the amount\"))\n",
        "      if amount<=self.balance:\n",
        "        self.balance=self.balance - amount\n",
        "        print(\"Amount withdrawal successful\")\n",
        "      else:\n",
        "        print(\"insuficient balance\")\n",
        "    else:\n",
        "       print(\"Entered pin is wrong please try again\")\n",
        "    self.menu()"
      ],
      "metadata": {
        "id": "5Vtc-vS-9A3q"
      },
      "execution_count": null,
      "outputs": []
    },
    {
      "cell_type": "code",
      "source": [
        "#the code will not run unless an object is created for it\n",
        "\n",
        "obj =Atm()"
      ],
      "metadata": {
        "colab": {
          "base_uri": "https://localhost:8080/"
        },
        "id": "Pa-upeQi-hhx",
        "outputId": "acdfde22-1d1f-4627-93ad-6a1aebb0ddfe"
      },
      "execution_count": null,
      "outputs": [
        {
          "output_type": "stream",
          "name": "stdout",
          "text": [
            "\n",
            "    Hi How can I help you?\n",
            "    1.press 1 to create pin\n",
            "    2.press 2 to change pin\n",
            "    3.press 3 to check balance\n",
            "    4.press 4 to withdraw\n",
            "    5.anything else to exit\n",
            "\n",
            "    \n",
            "    \n",
            "    1\n",
            "enter your pin:1234\n",
            "enter balance:10000\n",
            "pin created successfully\n",
            "\n",
            "    Hi How can I help you?\n",
            "    1.press 1 to create pin\n",
            "    2.press 2 to change pin\n",
            "    3.press 3 to check balance\n",
            "    4.press 4 to withdraw\n",
            "    5.anything else to exit\n",
            "\n",
            "    \n",
            "    \n",
            "    4\n",
            "enter the pin1234\n",
            "Enter the amount5000\n",
            "Amount withdrawal successful\n",
            "\n",
            "    Hi How can I help you?\n",
            "    1.press 1 to create pin\n",
            "    2.press 2 to change pin\n",
            "    3.press 3 to check balance\n",
            "    4.press 4 to withdraw\n",
            "    5.anything else to exit\n",
            "\n",
            "    \n",
            "    \n",
            "    3\n",
            "enter your pin:1234\n",
            "your balance is 5000\n"
          ]
        }
      ]
    },
    {
      "cell_type": "code",
      "source": [
        "print(type(obj))"
      ],
      "metadata": {
        "colab": {
          "base_uri": "https://localhost:8080/"
        },
        "id": "yBSAWvO9-q8P",
        "outputId": "d7710939-04ac-4a41-afa3-b9635d09eb3f"
      },
      "execution_count": null,
      "outputs": [
        {
          "output_type": "stream",
          "name": "stdout",
          "text": [
            "<class '__main__.Atm'>\n"
          ]
        }
      ]
    },
    {
      "cell_type": "code",
      "source": [
        "obj."
      ],
      "metadata": {
        "id": "xPV5xd_G-vcl"
      },
      "execution_count": null,
      "outputs": []
    }
  ]
}