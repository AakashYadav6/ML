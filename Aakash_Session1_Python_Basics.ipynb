{
  "nbformat": 4,
  "nbformat_minor": 0,
  "metadata": {
    "colab": {
      "provenance": [],
      "authorship_tag": "ABX9TyNE1uIdNbzt9TPWeN2jd7Fh",
      "include_colab_link": true
    },
    "kernelspec": {
      "name": "python3",
      "display_name": "Python 3"
    },
    "language_info": {
      "name": "python"
    }
  },
  "cells": [
    {
      "cell_type": "markdown",
      "metadata": {
        "id": "view-in-github",
        "colab_type": "text"
      },
      "source": [
        "<a href=\"https://colab.research.google.com/github/AakashYadav6/ML/blob/main/Aakash_Session1_Python_Basics.ipynb\" target=\"_parent\"><img src=\"https://colab.research.google.com/assets/colab-badge.svg\" alt=\"Open In Colab\"/></a>"
      ]
    },
    {
      "cell_type": "markdown",
      "source": [
        "# **Why Python?**"
      ],
      "metadata": {
        "id": "7wlMdlkyekYj"
      }
    },
    {
      "cell_type": "markdown",
      "source": [
        "\n",
        "\n",
        "```\n",
        "\n",
        "```\n",
        "\n",
        "1.Design Philosophy\n",
        "\n",
        "2.Batteries Included :string reverse\n",
        "\n",
        "3.Libraries/Community\n",
        "\n",
        "4.General Purpose : web,oop,functional,desktop app,data science,game dev,etc\n"
      ],
      "metadata": {
        "id": "4wDjJ-hNqV9f"
      }
    },
    {
      "cell_type": "markdown",
      "source": [
        "# Why Python for Data Science?\n"
      ],
      "metadata": {
        "id": "OebN9-I1rU8O"
      }
    },
    {
      "cell_type": "markdown",
      "source": [
        "\n",
        "\n",
        "*   Easy to learn\n",
        "*   Proximity with Maths (existing lib for maths)\n",
        "*   Community\n",
        "\n",
        "\n",
        "\n",
        "\n"
      ],
      "metadata": {
        "id": "HlA4qCFErphW"
      }
    },
    {
      "cell_type": "markdown",
      "source": [
        "# **1.Python Output**"
      ],
      "metadata": {
        "id": "QT06CYADsYY9"
      }
    },
    {
      "cell_type": "code",
      "source": [
        "#python is a case sensitive language\n",
        "print(\"hello world\")"
      ],
      "metadata": {
        "colab": {
          "base_uri": "https://localhost:8080/"
        },
        "id": "rz3hYWS7tEHT",
        "outputId": "f83d2db5-dce0-4a95-ce66-3b8a17fd602a"
      },
      "execution_count": null,
      "outputs": [
        {
          "output_type": "stream",
          "name": "stdout",
          "text": [
            "hello world\n"
          ]
        }
      ]
    },
    {
      "cell_type": "code",
      "source": [
        "print('Robotics is an emerging field')"
      ],
      "metadata": {
        "colab": {
          "base_uri": "https://localhost:8080/"
        },
        "id": "aY37UHZbuGN2",
        "outputId": "111b173e-5805-4889-d080-ad22cb7d882a"
      },
      "execution_count": null,
      "outputs": [
        {
          "output_type": "stream",
          "name": "stdout",
          "text": [
            "Robotics is an emerging field\n"
          ]
        }
      ]
    },
    {
      "cell_type": "code",
      "source": [
        "print (7)"
      ],
      "metadata": {
        "colab": {
          "base_uri": "https://localhost:8080/"
        },
        "id": "gY_Ym3fRM3v0",
        "outputId": "c0c9b902-42a8-4ffc-d8db-67a5e51a8e3d"
      },
      "execution_count": null,
      "outputs": [
        {
          "output_type": "stream",
          "name": "stdout",
          "text": [
            "7\n"
          ]
        }
      ]
    },
    {
      "cell_type": "code",
      "source": [
        "print(4.5) #decimal"
      ],
      "metadata": {
        "colab": {
          "base_uri": "https://localhost:8080/"
        },
        "id": "NwwEYDp4CBq6",
        "outputId": "b39f45a0-5a48-48c7-bfa0-ca41a274b182"
      },
      "execution_count": null,
      "outputs": [
        {
          "output_type": "stream",
          "name": "stdout",
          "text": [
            "4.5\n"
          ]
        }
      ]
    },
    {
      "cell_type": "code",
      "source": [
        "print(True)"
      ],
      "metadata": {
        "colab": {
          "base_uri": "https://localhost:8080/"
        },
        "id": "ve4YNFLRCJgl",
        "outputId": "b57ea8e0-52e5-4b28-9b6d-15ae6e59e11f"
      },
      "execution_count": null,
      "outputs": [
        {
          "output_type": "stream",
          "name": "stdout",
          "text": [
            "True\n"
          ]
        }
      ]
    },
    {
      "cell_type": "code",
      "source": [
        "print(1,4.5,'hello',True)"
      ],
      "metadata": {
        "colab": {
          "base_uri": "https://localhost:8080/"
        },
        "id": "stoMdmyGCMqX",
        "outputId": "cb5662be-53d1-49ff-cca4-d72e3000c3b2"
      },
      "execution_count": null,
      "outputs": [
        {
          "output_type": "stream",
          "name": "stdout",
          "text": [
            "1 4.5 hello True\n"
          ]
        }
      ]
    },
    {
      "cell_type": "code",
      "source": [
        "print(1,2.3,'hello',True,sep='-')"
      ],
      "metadata": {
        "colab": {
          "base_uri": "https://localhost:8080/"
        },
        "id": "EtMhFbFbCVVw",
        "outputId": "c2173d8e-4338-45f0-ec58-57dcd13feb8d"
      },
      "execution_count": null,
      "outputs": [
        {
          "output_type": "stream",
          "name": "stdout",
          "text": [
            "1-2.3-hello-True\n"
          ]
        }
      ]
    },
    {
      "cell_type": "code",
      "source": [
        "print(1,2.34,'world',False,end='-')\n",
        "print('hello')"
      ],
      "metadata": {
        "colab": {
          "base_uri": "https://localhost:8080/"
        },
        "id": "GIxBDKefCgCT",
        "outputId": "5bd3415c-5001-4b67-b5d4-6e599059fc48"
      },
      "execution_count": null,
      "outputs": [
        {
          "output_type": "stream",
          "name": "stdout",
          "text": [
            "1 2.34 world False-hello\n"
          ]
        }
      ]
    },
    {
      "cell_type": "markdown",
      "source": [
        "# **2.Data Types**"
      ],
      "metadata": {
        "id": "SiVj5KxvtKsc"
      }
    },
    {
      "cell_type": "code",
      "source": [
        "#integer\n",
        "print(3)\n",
        "#1*10^308\n",
        "print(1*10**308)\n",
        "print(1e309)"
      ],
      "metadata": {
        "colab": {
          "base_uri": "https://localhost:8080/"
        },
        "id": "Hh_SJ561tUy0",
        "outputId": "f0308ad0-4a8d-4d36-bba0-9583a550719a"
      },
      "execution_count": null,
      "outputs": [
        {
          "output_type": "stream",
          "name": "stdout",
          "text": [
            "3\n",
            "100000000000000000000000000000000000000000000000000000000000000000000000000000000000000000000000000000000000000000000000000000000000000000000000000000000000000000000000000000000000000000000000000000000000000000000000000000000000000000000000000000000000000000000000000000000000000000000000000000000000000000000\n",
            "inf\n"
          ]
        }
      ]
    },
    {
      "cell_type": "code",
      "source": [
        "#decimal/float\n",
        "print(3.4)\n",
        "print(1.7e308)"
      ],
      "metadata": {
        "colab": {
          "base_uri": "https://localhost:8080/"
        },
        "id": "TDPZgLfID3DH",
        "outputId": "48af50b9-a6c3-4ee9-9ce1-918d7469eba1"
      },
      "execution_count": null,
      "outputs": [
        {
          "output_type": "stream",
          "name": "stdout",
          "text": [
            "3.4\n",
            "1.7e+308\n"
          ]
        }
      ]
    },
    {
      "cell_type": "code",
      "source": [
        "#boolean\n",
        "print(True)\n",
        "print(False)"
      ],
      "metadata": {
        "colab": {
          "base_uri": "https://localhost:8080/"
        },
        "id": "UejNekCuD3PC",
        "outputId": "181e74a1-45ad-441e-91dc-5e2bd8b12933"
      },
      "execution_count": null,
      "outputs": [
        {
          "output_type": "stream",
          "name": "stdout",
          "text": [
            "True\n",
            "False\n"
          ]
        }
      ]
    },
    {
      "cell_type": "code",
      "source": [
        "#string/text\n",
        "#it does not have char type\n",
        "print('Robotics')"
      ],
      "metadata": {
        "colab": {
          "base_uri": "https://localhost:8080/"
        },
        "id": "r7O3kUptExki",
        "outputId": "ddcb48e1-1ebd-4cb4-d5be-59ff9a524ea1"
      },
      "execution_count": null,
      "outputs": [
        {
          "output_type": "stream",
          "name": "stdout",
          "text": [
            "Robotics\n"
          ]
        }
      ]
    },
    {
      "cell_type": "code",
      "source": [
        "#complex number\n",
        "print(5+4j)"
      ],
      "metadata": {
        "colab": {
          "base_uri": "https://localhost:8080/"
        },
        "id": "1GnogCh9E4pI",
        "outputId": "b61a3fc5-6a26-4377-c8fe-8df9a1c6434d"
      },
      "execution_count": null,
      "outputs": [
        {
          "output_type": "stream",
          "name": "stdout",
          "text": [
            "(5+4j)\n"
          ]
        }
      ]
    },
    {
      "cell_type": "code",
      "source": [
        "#list --> c --> array\n",
        "print([3,3,4])"
      ],
      "metadata": {
        "colab": {
          "base_uri": "https://localhost:8080/"
        },
        "id": "kXzmmvoXFCol",
        "outputId": "88b6771c-d688-4cd4-df15-bc5e488dddb8"
      },
      "execution_count": null,
      "outputs": [
        {
          "output_type": "stream",
          "name": "stdout",
          "text": [
            "[3, 3, 4]\n"
          ]
        }
      ]
    },
    {
      "cell_type": "code",
      "source": [
        "#tuple\n",
        "print((2,23,3,3))"
      ],
      "metadata": {
        "colab": {
          "base_uri": "https://localhost:8080/"
        },
        "id": "ETuH5QUxFNWt",
        "outputId": "042cdd5f-4b45-4a99-a3f9-b5a209527a08"
      },
      "execution_count": null,
      "outputs": [
        {
          "output_type": "stream",
          "name": "stdout",
          "text": [
            "(2, 23, 3, 3)\n"
          ]
        }
      ]
    },
    {
      "cell_type": "code",
      "source": [
        "#sets\n",
        "print({3,34,4,6})"
      ],
      "metadata": {
        "colab": {
          "base_uri": "https://localhost:8080/"
        },
        "id": "u0mSq0EVFSvi",
        "outputId": "5fccc42f-40fe-4e5d-ae27-d855899d03bf"
      },
      "execution_count": null,
      "outputs": [
        {
          "output_type": "stream",
          "name": "stdout",
          "text": [
            "{34, 3, 4, 6}\n"
          ]
        }
      ]
    },
    {
      "cell_type": "code",
      "source": [
        "#dictionary\n",
        "print({'name':'aakash','gender':'male','weight':60})"
      ],
      "metadata": {
        "colab": {
          "base_uri": "https://localhost:8080/"
        },
        "id": "LaaNAZxuFbUY",
        "outputId": "e4893b0b-ae63-4bb8-c93d-5fb72a55dc08"
      },
      "execution_count": null,
      "outputs": [
        {
          "output_type": "stream",
          "name": "stdout",
          "text": [
            "{'name': 'aakash', 'gender': 'male', 'weight': 60}\n"
          ]
        }
      ]
    },
    {
      "cell_type": "code",
      "source": [
        "#type\n",
        "type('hello')\n",
        "type(5)\n",
        "type(4.5)\n",
        "type({4,5,6})"
      ],
      "metadata": {
        "colab": {
          "base_uri": "https://localhost:8080/"
        },
        "id": "kup_87a_GO3-",
        "outputId": "ade28d23-6947-49ef-bc59-d98b1f1ff337"
      },
      "execution_count": null,
      "outputs": [
        {
          "output_type": "execute_result",
          "data": {
            "text/plain": [
              "set"
            ]
          },
          "metadata": {},
          "execution_count": 24
        }
      ]
    },
    {
      "cell_type": "markdown",
      "source": [
        "# **3.Variables**"
      ],
      "metadata": {
        "id": "Bj3xomevtYs0"
      }
    },
    {
      "cell_type": "code",
      "source": [
        "#Static vs dynamic typing\n",
        "\n",
        "#static vs dynamic binding\n",
        "\n",
        "#stylish declaration techniques\n"
      ],
      "metadata": {
        "id": "Da0sLBlKuCeU"
      },
      "execution_count": null,
      "outputs": []
    },
    {
      "cell_type": "code",
      "source": [
        "#c/c++\n",
        "#int name ='Aakash'\n",
        "name = 'aakash'\n",
        "\n",
        "a=5\n",
        "b=6\n",
        "print(a+b)"
      ],
      "metadata": {
        "colab": {
          "base_uri": "https://localhost:8080/"
        },
        "id": "dkRkFjIeG8T8",
        "outputId": "ceefaf2a-1a6b-4cb8-97eb-1ee1eb24ca97"
      },
      "execution_count": null,
      "outputs": [
        {
          "output_type": "stream",
          "name": "stdout",
          "text": [
            "11\n"
          ]
        }
      ]
    },
    {
      "cell_type": "code",
      "source": [
        "#static typing\n",
        "#int a = 5; in c/c++\n",
        "#dynamic typing\n",
        "a=5\n"
      ],
      "metadata": {
        "id": "zpcHrCAoHeeF"
      },
      "execution_count": null,
      "outputs": []
    },
    {
      "cell_type": "code",
      "source": [
        "#dynamic binding\n",
        "a=5\n",
        "print(a)\n",
        "a = 'Aakash'\n",
        "print(a)\n",
        "\n",
        "#static binding\n",
        "#int a= 5\n"
      ],
      "metadata": {
        "colab": {
          "base_uri": "https://localhost:8080/"
        },
        "id": "3kZwFR2jH421",
        "outputId": "47c4880f-66b4-44e5-a0f0-61744583783c"
      },
      "execution_count": null,
      "outputs": [
        {
          "output_type": "stream",
          "name": "stdout",
          "text": [
            "5\n",
            "Aakash\n"
          ]
        }
      ]
    },
    {
      "cell_type": "code",
      "source": [
        "a=1\n",
        "b=3\n",
        "c=3\n",
        "print(a,b,c)"
      ],
      "metadata": {
        "colab": {
          "base_uri": "https://localhost:8080/"
        },
        "id": "ANyN_BqJIVNN",
        "outputId": "7f4d891d-f9e0-430c-985f-b2d0bb1f4e33"
      },
      "execution_count": null,
      "outputs": [
        {
          "output_type": "stream",
          "name": "stdout",
          "text": [
            "1 3 3\n"
          ]
        }
      ]
    },
    {
      "cell_type": "code",
      "source": [
        "a,b,c =1,2,2\n",
        "print(a,b,c)"
      ],
      "metadata": {
        "colab": {
          "base_uri": "https://localhost:8080/"
        },
        "id": "zuyAH90sIiXk",
        "outputId": "dccc7541-bb1f-47bd-9bc2-b23fc8b7c2db"
      },
      "execution_count": null,
      "outputs": [
        {
          "output_type": "stream",
          "name": "stdout",
          "text": [
            "1 2 2\n"
          ]
        }
      ]
    },
    {
      "cell_type": "code",
      "source": [
        "a=b=c =5\n",
        "print (a,b,c)"
      ],
      "metadata": {
        "colab": {
          "base_uri": "https://localhost:8080/"
        },
        "id": "8KJRbkrXInml",
        "outputId": "093f5e07-3e68-4841-f618-ad812bf08509"
      },
      "execution_count": null,
      "outputs": [
        {
          "output_type": "stream",
          "name": "stdout",
          "text": [
            "5 5 5\n"
          ]
        }
      ]
    },
    {
      "cell_type": "markdown",
      "source": [
        " # **Comments**"
      ],
      "metadata": {
        "id": "6wGLLg1NJvNb"
      }
    },
    {
      "cell_type": "code",
      "source": [
        "#It is an addition program\n",
        "a=5\n",
        "b=6\n",
        "#printing the value after addition\n",
        "\n",
        "print(a+b)"
      ],
      "metadata": {
        "colab": {
          "base_uri": "https://localhost:8080/"
        },
        "id": "cd7EJGmAJ2An",
        "outputId": "9b78e3be-5fe7-4d3a-f5f7-c3193989d9cb"
      },
      "execution_count": null,
      "outputs": [
        {
          "output_type": "stream",
          "name": "stdout",
          "text": [
            "11\n"
          ]
        }
      ]
    },
    {
      "cell_type": "markdown",
      "source": [
        "# **4.Keywords & Identifers**"
      ],
      "metadata": {
        "id": "OVRm_4vtITwH"
      }
    },
    {
      "cell_type": "code",
      "source": [
        "#Keywords\n",
        "#reserved words which are used by the compiler"
      ],
      "metadata": {
        "id": "g89nFE-wJIxA"
      },
      "execution_count": null,
      "outputs": []
    },
    {
      "cell_type": "code",
      "source": [
        "#identifers\n",
        "#name for variavle,function,class\n",
        "#you can't start with number\n",
        "name1='aakash'\n",
        "print(name1)\n",
        "#You can use special character like _\n",
        "_ = 'yadav'\n",
        "print(_)"
      ],
      "metadata": {
        "colab": {
          "base_uri": "https://localhost:8080/"
        },
        "id": "zK2is6rkJJPW",
        "outputId": "1d4cf557-307d-4292-a569-a5c343b28f32"
      },
      "execution_count": null,
      "outputs": [
        {
          "output_type": "stream",
          "name": "stdout",
          "text": [
            "aakash\n",
            "yadav\n"
          ]
        }
      ]
    },
    {
      "cell_type": "markdown",
      "source": [
        "# **5.User Input**"
      ],
      "metadata": {
        "id": "Abt7gOJUJlsD"
      }
    },
    {
      "cell_type": "code",
      "source": [
        "#static vs dynamic software\n",
        "#static like calender clock blog college website\n",
        "#dynamic like youtube ola cab zomato"
      ],
      "metadata": {
        "id": "BLYnk4WjNu5g"
      },
      "execution_count": null,
      "outputs": []
    },
    {
      "cell_type": "code",
      "source": [
        "input('Enter your name ')"
      ],
      "metadata": {
        "colab": {
          "base_uri": "https://localhost:8080/",
          "height": 54
        },
        "id": "ABUhkgOMOGfr",
        "outputId": "2abc8706-0cc5-4138-fdff-c18be7e832e9"
      },
      "execution_count": null,
      "outputs": [
        {
          "name": "stdout",
          "output_type": "stream",
          "text": [
            "Enter your name aakash\n"
          ]
        },
        {
          "output_type": "execute_result",
          "data": {
            "text/plain": [
              "'aakash'"
            ],
            "application/vnd.google.colaboratory.intrinsic+json": {
              "type": "string"
            }
          },
          "metadata": {},
          "execution_count": 43
        }
      ]
    },
    {
      "cell_type": "markdown",
      "source": [
        "**Program adding 2 numbers**"
      ],
      "metadata": {
        "id": "UKRXTlurSzQk"
      }
    },
    {
      "cell_type": "code",
      "source": [
        "#take input from from user and store them in variables\n",
        "fnum =int(input('Enter first number ') )\n",
        "snum =int (input('Enter second number') )\n",
        "print(type(fnum),type(snum))\n",
        "#add the 2 variables\n",
        "result = int(fnum) + int(snum)\n",
        "#print the result\n",
        "print(result)\n",
        "#duplicate fnum and store in result\n",
        "print(type(fnum))\n",
        "\n",
        "#universal format as string can store integers ,decimals,etc"
      ],
      "metadata": {
        "colab": {
          "base_uri": "https://localhost:8080/"
        },
        "id": "MSoSHNIaOcfo",
        "outputId": "5048826c-1f86-4932-ba57-a2530e817613"
      },
      "execution_count": null,
      "outputs": [
        {
          "output_type": "stream",
          "name": "stdout",
          "text": [
            "Enter first number 3\n",
            "Enter second number4\n",
            "<class 'int'> <class 'int'>\n",
            "7\n",
            "<class 'int'>\n"
          ]
        }
      ]
    },
    {
      "cell_type": "markdown",
      "source": [
        "# Type conversion"
      ],
      "metadata": {
        "id": "PyU6tIdBOeCn"
      }
    },
    {
      "cell_type": "code",
      "source": [
        "#Implicit vs Explicit\n",
        "print(5+6.6)\n",
        "print(type(5),type(6.6))\n",
        "\n",
        "print(4 +'4')\n"
      ],
      "metadata": {
        "colab": {
          "base_uri": "https://localhost:8080/",
          "height": 235
        },
        "id": "D2TsWzlDOhS9",
        "outputId": "f99e4e6d-90db-45ca-8db9-96b5e3fcbc54"
      },
      "execution_count": null,
      "outputs": [
        {
          "output_type": "stream",
          "name": "stdout",
          "text": [
            "11.6\n",
            "<class 'int'> <class 'float'>\n"
          ]
        },
        {
          "output_type": "error",
          "ename": "TypeError",
          "evalue": "ignored",
          "traceback": [
            "\u001b[0;31m---------------------------------------------------------------------------\u001b[0m",
            "\u001b[0;31mTypeError\u001b[0m                                 Traceback (most recent call last)",
            "\u001b[0;32m<ipython-input-1-e770e3a855d7>\u001b[0m in \u001b[0;36m<module>\u001b[0;34m\u001b[0m\n\u001b[1;32m      3\u001b[0m \u001b[0mprint\u001b[0m\u001b[0;34m(\u001b[0m\u001b[0mtype\u001b[0m\u001b[0;34m(\u001b[0m\u001b[0;36m5\u001b[0m\u001b[0;34m)\u001b[0m\u001b[0;34m,\u001b[0m\u001b[0mtype\u001b[0m\u001b[0;34m(\u001b[0m\u001b[0;36m6.6\u001b[0m\u001b[0;34m)\u001b[0m\u001b[0;34m)\u001b[0m\u001b[0;34m\u001b[0m\u001b[0;34m\u001b[0m\u001b[0m\n\u001b[1;32m      4\u001b[0m \u001b[0;34m\u001b[0m\u001b[0m\n\u001b[0;32m----> 5\u001b[0;31m \u001b[0mprint\u001b[0m\u001b[0;34m(\u001b[0m\u001b[0;36m4\u001b[0m \u001b[0;34m+\u001b[0m\u001b[0;34m'4'\u001b[0m\u001b[0;34m)\u001b[0m\u001b[0;34m\u001b[0m\u001b[0;34m\u001b[0m\u001b[0m\n\u001b[0m",
            "\u001b[0;31mTypeError\u001b[0m: unsupported operand type(s) for +: 'int' and 'str'"
          ]
        }
      ]
    },
    {
      "cell_type": "code",
      "source": [
        "#explicit\n",
        "#str -> int\n",
        "type(int('4'))\n",
        "int(4+5j)"
      ],
      "metadata": {
        "colab": {
          "base_uri": "https://localhost:8080/",
          "height": 200
        },
        "id": "99JgGwL0Qtxg",
        "outputId": "40d51bc1-3699-4758-bf05-716fa4ea307e"
      },
      "execution_count": null,
      "outputs": [
        {
          "output_type": "error",
          "ename": "TypeError",
          "evalue": "ignored",
          "traceback": [
            "\u001b[0;31m---------------------------------------------------------------------------\u001b[0m",
            "\u001b[0;31mTypeError\u001b[0m                                 Traceback (most recent call last)",
            "\u001b[0;32m<ipython-input-53-e045d57b23e8>\u001b[0m in \u001b[0;36m<module>\u001b[0;34m\u001b[0m\n\u001b[1;32m      2\u001b[0m \u001b[0;31m#str -> int\u001b[0m\u001b[0;34m\u001b[0m\u001b[0;34m\u001b[0m\u001b[0;34m\u001b[0m\u001b[0m\n\u001b[1;32m      3\u001b[0m \u001b[0mtype\u001b[0m\u001b[0;34m(\u001b[0m\u001b[0mint\u001b[0m\u001b[0;34m(\u001b[0m\u001b[0;34m'4'\u001b[0m\u001b[0;34m)\u001b[0m\u001b[0;34m)\u001b[0m\u001b[0;34m\u001b[0m\u001b[0;34m\u001b[0m\u001b[0m\n\u001b[0;32m----> 4\u001b[0;31m \u001b[0mint\u001b[0m\u001b[0;34m(\u001b[0m\u001b[0;36m4\u001b[0m\u001b[0;34m+\u001b[0m\u001b[0;36m5j\u001b[0m\u001b[0;34m)\u001b[0m\u001b[0;34m\u001b[0m\u001b[0;34m\u001b[0m\u001b[0m\n\u001b[0m",
            "\u001b[0;31mTypeError\u001b[0m: can't convert complex to int"
          ]
        }
      ]
    },
    {
      "cell_type": "code",
      "source": [
        "#int to str\n",
        "str(5)\n",
        "#int to float\n",
        "float(59)"
      ],
      "metadata": {
        "colab": {
          "base_uri": "https://localhost:8080/"
        },
        "id": "owUgqYxkRT8i",
        "outputId": "c3a585d5-f3cc-4cdd-fd1e-4caa7b89484f"
      },
      "execution_count": null,
      "outputs": [
        {
          "output_type": "execute_result",
          "data": {
            "text/plain": [
              "59.0"
            ]
          },
          "metadata": {},
          "execution_count": 57
        }
      ]
    },
    {
      "cell_type": "markdown",
      "source": [
        "# **Literals**"
      ],
      "metadata": {
        "id": "sQNBf5pmS_in"
      }
    },
    {
      "cell_type": "code",
      "source": [
        "a = 0b1010 #Binary Literals\n",
        "b = 100 #decimal literal\n",
        "c = 0o310 #octal literal\n",
        "d =0x12c #hexadecimal literal\n",
        "\n",
        "\n",
        "#Float literal\n",
        "float_1 =10.4\n",
        "float_2 = 1.6e2 #1.6 * 10^2\n",
        "float_3 =1.3e-4\n",
        "\n",
        "\n",
        "#complex literal\n",
        "x = 3.14j\n",
        "print(x,x.imag,x.real)"
      ],
      "metadata": {
        "colab": {
          "base_uri": "https://localhost:8080/"
        },
        "id": "KrQstnXGTFPR",
        "outputId": "45dfdd00-a545-43da-fd28-765071155aca"
      },
      "execution_count": null,
      "outputs": [
        {
          "output_type": "stream",
          "name": "stdout",
          "text": [
            "3.14j 3.14 0.0\n"
          ]
        }
      ]
    },
    {
      "cell_type": "code",
      "source": [
        "string ='ghbewj'\n",
        "string_1 =\"kncice\"\n",
        "char = 'd'\n",
        "unicode =u \"/000066\"\n",
        "raw_string =r \"raw /\""
      ],
      "metadata": {
        "id": "pOvNwZMSTmdB"
      },
      "execution_count": null,
      "outputs": []
    },
    {
      "cell_type": "code",
      "source": [
        "a = 0b1010 #Binary Literals\n",
        "print(a)"
      ],
      "metadata": {
        "colab": {
          "base_uri": "https://localhost:8080/"
        },
        "id": "sSgIA3ewTPap",
        "outputId": "937b25f2-4013-4623-8758-f5a0c5fba1d1"
      },
      "execution_count": null,
      "outputs": [
        {
          "output_type": "stream",
          "name": "stdout",
          "text": [
            "10\n"
          ]
        }
      ]
    },
    {
      "cell_type": "code",
      "source": [
        "a =True +4\n",
        "b =False +10\n",
        "print (a)\n",
        "print(b)\n",
        "#python treat boolean as numbers 0 and 1\n"
      ],
      "metadata": {
        "colab": {
          "base_uri": "https://localhost:8080/"
        },
        "id": "IHYG9QzoUyJe",
        "outputId": "19330f58-4411-441d-a441-c574d00f3ac8"
      },
      "execution_count": null,
      "outputs": [
        {
          "output_type": "stream",
          "name": "stdout",
          "text": [
            "5\n",
            "10\n"
          ]
        }
      ]
    },
    {
      "cell_type": "code",
      "source": [
        "a= None\n",
        "print (a)"
      ],
      "metadata": {
        "colab": {
          "base_uri": "https://localhost:8080/"
        },
        "id": "ToRAZQobVCeJ",
        "outputId": "d4ba59f0-f5e4-4274-d9fb-8384f1ad66d3"
      },
      "execution_count": null,
      "outputs": [
        {
          "output_type": "stream",
          "name": "stdout",
          "text": [
            "None\n"
          ]
        }
      ]
    },
    {
      "cell_type": "code",
      "source": [
        "k =None\n",
        "a =5\n",
        "b = 6\n",
        "print ('program exe')\n",
        "#We can use None for future use"
      ],
      "metadata": {
        "colab": {
          "base_uri": "https://localhost:8080/"
        },
        "id": "XXL_e8C_VPIt",
        "outputId": "6cdf73e8-93f7-4aa6-b60b-4710aa3e5e15"
      },
      "execution_count": null,
      "outputs": [
        {
          "output_type": "stream",
          "name": "stdout",
          "text": [
            "program exe\n"
          ]
        }
      ]
    },
    {
      "cell_type": "markdown",
      "source": [
        "# **Operators**"
      ],
      "metadata": {
        "id": "xXzUFp2TVHc1"
      }
    },
    {
      "cell_type": "code",
      "source": [],
      "metadata": {
        "id": "jVtLmnerVMQz"
      },
      "execution_count": null,
      "outputs": []
    },
    {
      "cell_type": "markdown",
      "source": [
        "# **If-Else**"
      ],
      "metadata": {
        "id": "CE1YZSPSVpva"
      }
    },
    {
      "cell_type": "code",
      "source": [],
      "metadata": {
        "id": "_4nPUQS2Vwxw"
      },
      "execution_count": null,
      "outputs": []
    }
  ]
}