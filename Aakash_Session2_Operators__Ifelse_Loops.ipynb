{
  "nbformat": 4,
  "nbformat_minor": 0,
  "metadata": {
    "colab": {
      "provenance": [],
      "authorship_tag": "ABX9TyPwhu6I15cIMdORo/I/Mnmf",
      "include_colab_link": true
    },
    "kernelspec": {
      "name": "python3",
      "display_name": "Python 3"
    },
    "language_info": {
      "name": "python"
    }
  },
  "cells": [
    {
      "cell_type": "markdown",
      "metadata": {
        "id": "view-in-github",
        "colab_type": "text"
      },
      "source": [
        "<a href=\"https://colab.research.google.com/github/AakashYadav6/ML/blob/main/Aakash_Session2_Operators__Ifelse_Loops.ipynb\" target=\"_parent\"><img src=\"https://colab.research.google.com/assets/colab-badge.svg\" alt=\"Open In Colab\"/></a>"
      ]
    },
    {
      "cell_type": "markdown",
      "source": [
        "**Author:Aakash Yadav**\n",
        "\n",
        "**Date:16/11/2022**"
      ],
      "metadata": {
        "id": "BtO693HvK0dc"
      }
    },
    {
      "cell_type": "markdown",
      "source": [
        "# **Operators in Python**"
      ],
      "metadata": {
        "id": "QUZMbeYpzZmt"
      }
    },
    {
      "cell_type": "markdown",
      "source": [
        "\n",
        "\n",
        "*   Arithmetic Operators\n",
        "\n",
        "*   Relational Operators\n",
        "\n",
        "*   Logical Operators\n",
        "*   Bitwise Operators\n",
        "\n",
        "\n",
        "*   Assignment Operators\n",
        "\n",
        "\n",
        "*   Membership Operators\n",
        "\n"
      ],
      "metadata": {
        "id": "XBm9xLi2zlAa"
      }
    },
    {
      "cell_type": "code",
      "source": [
        "#Arithmetic Operators\n",
        "print(5+6)\n",
        "print(5-6)\n",
        "print(5*6)\n",
        "print(5/2)\n",
        "print(5//2) #integer value\n",
        "print(5%2) #modulus remainder\n",
        "print(5**2) #power of"
      ],
      "metadata": {
        "colab": {
          "base_uri": "https://localhost:8080/"
        },
        "id": "DZOnAVNOC5_m",
        "outputId": "1f28b2e7-4178-4390-bf4e-8c8b96c3dc07"
      },
      "execution_count": null,
      "outputs": [
        {
          "output_type": "stream",
          "name": "stdout",
          "text": [
            "11\n",
            "-1\n",
            "30\n",
            "2.5\n",
            "2\n",
            "1\n",
            "25\n"
          ]
        }
      ]
    },
    {
      "cell_type": "code",
      "source": [
        "#Relational Operators\n",
        "print(4>5)\n",
        "print(4<5)\n",
        "print(4>=4)\n",
        "print(4>=4)\n",
        "print(4==4)\n",
        "print(4!=4)\n"
      ],
      "metadata": {
        "colab": {
          "base_uri": "https://localhost:8080/"
        },
        "id": "F5gmZUeQDIPx",
        "outputId": "b646e4e0-1e2a-4fc7-d76a-13732b8c3df3"
      },
      "execution_count": null,
      "outputs": [
        {
          "output_type": "stream",
          "name": "stdout",
          "text": [
            "False\n",
            "True\n",
            "True\n",
            "True\n",
            "True\n",
            "False\n"
          ]
        }
      ]
    },
    {
      "cell_type": "code",
      "source": [
        "#Logical operators\n",
        "#and & or\n",
        "print(1 and 0)\n",
        "print (1 or 0)\n",
        "print (not 1)"
      ],
      "metadata": {
        "colab": {
          "base_uri": "https://localhost:8080/"
        },
        "id": "BItyUiZREGJN",
        "outputId": "3e212bba-f0a1-4c6e-984b-318bab921a6b"
      },
      "execution_count": null,
      "outputs": [
        {
          "output_type": "stream",
          "name": "stdout",
          "text": [
            "0\n",
            "1\n",
            "False\n"
          ]
        }
      ]
    },
    {
      "cell_type": "code",
      "source": [
        "#Bitwise Operators\n",
        "print(2 & 3) #bitwise and\n",
        "print (2 | 3) #bitwise or\n",
        "print (2 ^ 3) #bitwise xor #same 0 #different 1\n",
        "print (~3)  #bitwise not\n",
        "print (4 >> 2) #left shift\n",
        "print (4 << 2)  #right shift"
      ],
      "metadata": {
        "colab": {
          "base_uri": "https://localhost:8080/"
        },
        "id": "br5a4i1AEd_R",
        "outputId": "89066cb7-e436-494a-f62f-49e2a6981bd2"
      },
      "execution_count": null,
      "outputs": [
        {
          "output_type": "stream",
          "name": "stdout",
          "text": [
            "2\n",
            "3\n",
            "1\n",
            "-4\n",
            "1\n",
            "16\n"
          ]
        }
      ]
    },
    {
      "cell_type": "code",
      "source": [
        "#Assignment Operators\n",
        "# =\n",
        "# aakash = 3\n",
        "\n",
        "a = 2\n",
        "a +=2\n",
        "a/=2\n",
        "a%=2\n",
        "a-=2\n",
        "print (a)"
      ],
      "metadata": {
        "colab": {
          "base_uri": "https://localhost:8080/"
        },
        "id": "BYLOO0BHGlYd",
        "outputId": "65a05fe3-53c3-4066-b5f8-b54e9db153bb"
      },
      "execution_count": null,
      "outputs": [
        {
          "output_type": "stream",
          "name": "stdout",
          "text": [
            "-2.0\n"
          ]
        }
      ]
    },
    {
      "cell_type": "code",
      "source": [
        "#Membership operators\n",
        "#in/not in\n",
        "print('d' in 'delhi')\n",
        "print (1 in [2,3,4,5])"
      ],
      "metadata": {
        "colab": {
          "base_uri": "https://localhost:8080/"
        },
        "id": "U5IedWsfG6_p",
        "outputId": "6ff15f2f-d5da-45cf-83f2-6e48cdfd4bba"
      },
      "execution_count": null,
      "outputs": [
        {
          "output_type": "stream",
          "name": "stdout",
          "text": [
            "True\n",
            "False\n"
          ]
        }
      ]
    },
    {
      "cell_type": "code",
      "source": [
        "#Program - Find the sum of a 3 digit number entered by the user\n",
        "\n",
        "number =int(input('Enter a 3 digit number'))\n",
        "#345%10 -> 5\n",
        "a = number%10\n",
        "\n",
        "number = number//10\n",
        "#34%10 -> 4\n",
        "b = number%10\n",
        "number = number//10\n",
        "#3%10 ->3\n",
        "c= number %10\n",
        "\n",
        "print(a+b+c)"
      ],
      "metadata": {
        "colab": {
          "base_uri": "https://localhost:8080/"
        },
        "id": "zL3GMZU8KRnv",
        "outputId": "a1ba14e8-3908-4ae0-fe5c-d85f4fa5cd37"
      },
      "execution_count": null,
      "outputs": [
        {
          "output_type": "stream",
          "name": "stdout",
          "text": [
            "Enter a 3 digit number123\n",
            "6\n"
          ]
        }
      ]
    },
    {
      "cell_type": "markdown",
      "source": [
        "# **If -else in Python**"
      ],
      "metadata": {
        "id": "b0UuiUBf1Twg"
      }
    },
    {
      "cell_type": "code",
      "source": [
        "#login program and indentation\n",
        "#email --> aakashyadav5013@gmail.com\n",
        "#password --> 294\n",
        "email=input('Enter your name')\n",
        "password =input('Enter your password')\n",
        "\n",
        "if email==\"aakashyadav5013@gmail.com\" and password ==\"294\":\n",
        "  print(\"Login successful\")\n",
        "elif email==\"aakashyadav5013@gmail.com\" and password != \"294\":\n",
        "  #tell the user that his/her password is wrong and then tell him/her to re enter the password\n",
        "  print(\"Incorrect password\")\n",
        "  password = input(\"Re-enter the password\")\n",
        "  if password == \"294\":\n",
        "    print(\"Welcome,finally!\")\n",
        "  else:\n",
        "    print(\"Wow,you entered the password wrong again!\")\n",
        "else:\n",
        "  print(\"Login unsuccessful\")"
      ],
      "metadata": {
        "id": "dx9jrFpnKRZ8",
        "colab": {
          "base_uri": "https://localhost:8080/"
        },
        "outputId": "4bb5f7ad-84d1-482b-906a-ef3ba38f5aaf"
      },
      "execution_count": null,
      "outputs": [
        {
          "output_type": "stream",
          "name": "stdout",
          "text": [
            "Enter your nameaakashyadav5013@gmail.com\n",
            "Enter your password234\n",
            "Incorrect password\n",
            "Re-enter the password294\n",
            "Welcome,finally!\n"
          ]
        }
      ]
    },
    {
      "cell_type": "code",
      "source": [
        "#if-else examples\n",
        "#1. Find the min of 3 given numbers\n",
        "a=int(input(\"enter first number\"))\n",
        "b=int(input(\"enter second number\"))\n",
        "c=int(input(\"enter third number\"))\n",
        "\n",
        "if a<b and a<c:\n",
        "  print(\"smallest is\",a)\n",
        "elif b<c:\n",
        "  print(\"smallest is\",b)\n",
        "elif c<a and c<b:\n",
        "  print(\"smallest is\",c)\n",
        "else:\n",
        "  print(\"all the entered numbers are equal\")\n"
      ],
      "metadata": {
        "id": "s9j3xTlbKRPZ",
        "colab": {
          "base_uri": "https://localhost:8080/"
        },
        "outputId": "3efae2da-fc06-4345-d185-d359295ac6b6"
      },
      "execution_count": null,
      "outputs": [
        {
          "output_type": "stream",
          "name": "stdout",
          "text": [
            "enter first number5\n",
            "enter second number4\n",
            "enter third number2\n",
            "smallest is 2\n"
          ]
        }
      ]
    },
    {
      "cell_type": "code",
      "source": [
        "#2. Menu Driven Program\n",
        "fnum =int(input(\"Enter the first number\"))\n",
        "snum =int(input(\"Enter the second number\"))\n",
        "op =input(\"Enter the operation\")\n",
        "if op==\"+\":\n",
        "  print(fnum+snum)\n",
        "elif op==\"-\":\n",
        "  print(fnum+snum)\n",
        "elif op==\"*\":\n",
        "  print(fnum*snum)\n",
        "else:\n",
        "  print(fnum/snum)"
      ],
      "metadata": {
        "colab": {
          "base_uri": "https://localhost:8080/"
        },
        "id": "Zx9D4G3R8KK2",
        "outputId": "99933a9c-b863-4e21-c041-6cbe5a8b92d3"
      },
      "execution_count": null,
      "outputs": [
        {
          "output_type": "stream",
          "name": "stdout",
          "text": [
            "Enter the first number2\n",
            "Enter the second number3\n",
            "Enter the operation+\n",
            "5\n"
          ]
        }
      ]
    },
    {
      "cell_type": "code",
      "source": [
        "#3. Menu Driven Program\n",
        "#atm machine\n",
        "menu = input(\"\"\"\n",
        "Hi,How can I help you?\n",
        "1.Enter 1 for pin change\n",
        "2.Enter 2 for check balance\n",
        "3.Enter 3 for withdrawal\n",
        "4.Enter 4 for exit\"\"\" )\n",
        "\n",
        "if menu ==\"1\":\n",
        "  print (\"pin change\")\n",
        "elif menu ==\"2\":\n",
        "  print (\"balance\")\n",
        "else:\n",
        "  print(\"exit\")"
      ],
      "metadata": {
        "colab": {
          "base_uri": "https://localhost:8080/"
        },
        "id": "y6kRWH8eAvlr",
        "outputId": "c468cf90-796c-4f91-d365-7a87852d9457"
      },
      "execution_count": null,
      "outputs": [
        {
          "output_type": "stream",
          "name": "stdout",
          "text": [
            "\n",
            "Hi,How can I help you?\n",
            "1.Enter 1 for pin change\n",
            "2.Enter 2 for check balance\n",
            "3.Enter 3 for withdrawal\n",
            "4.Enter 4 for exit2\n",
            "balance\n"
          ]
        }
      ]
    },
    {
      "cell_type": "markdown",
      "source": [
        "#**Modules in Python**\n"
      ],
      "metadata": {
        "id": "TeqI249m7VTn"
      }
    },
    {
      "cell_type": "markdown",
      "source": [
        "\n",
        "\n",
        "*   math\n",
        "\n",
        "*   keywords\n",
        "*   datetime\n",
        "\n",
        "\n",
        "*   random\n",
        "\n"
      ],
      "metadata": {
        "id": "9ehlPkyIBp5F"
      }
    },
    {
      "cell_type": "code",
      "source": [
        "#math\n",
        "import math as m\n",
        "m.factorial(5)\n",
        "m.floor(6.8)\n",
        "m.sqrt(196)"
      ],
      "metadata": {
        "id": "ja1feaYGKQyR",
        "colab": {
          "base_uri": "https://localhost:8080/"
        },
        "outputId": "c8dca7c8-00f1-490f-a125-3292cc5d544e"
      },
      "execution_count": null,
      "outputs": [
        {
          "output_type": "execute_result",
          "data": {
            "text/plain": [
              "14.0"
            ]
          },
          "metadata": {},
          "execution_count": 16
        }
      ]
    },
    {
      "cell_type": "code",
      "source": [
        "#keyword\n",
        "import keyword as k\n",
        "print(k.kwlist)"
      ],
      "metadata": {
        "id": "nyCd25RyKQhg",
        "colab": {
          "base_uri": "https://localhost:8080/"
        },
        "outputId": "c980bd8b-7ccb-48de-c1c5-013d6105f7ae"
      },
      "execution_count": null,
      "outputs": [
        {
          "output_type": "stream",
          "name": "stdout",
          "text": [
            "['False', 'None', 'True', 'and', 'as', 'assert', 'async', 'await', 'break', 'class', 'continue', 'def', 'del', 'elif', 'else', 'except', 'finally', 'for', 'from', 'global', 'if', 'import', 'in', 'is', 'lambda', 'nonlocal', 'not', 'or', 'pass', 'raise', 'return', 'try', 'while', 'with', 'yield']\n"
          ]
        }
      ]
    },
    {
      "cell_type": "code",
      "source": [
        "#random\n",
        "import random as r\n",
        "print(r.randint(1,100))"
      ],
      "metadata": {
        "id": "PZcKt95hKLqc",
        "colab": {
          "base_uri": "https://localhost:8080/"
        },
        "outputId": "2e57bb92-b3e5-49a4-ce5b-8c224b7511f8"
      },
      "execution_count": null,
      "outputs": [
        {
          "output_type": "stream",
          "name": "stdout",
          "text": [
            "46\n"
          ]
        }
      ]
    },
    {
      "cell_type": "code",
      "source": [
        "#datetime\n",
        "import datetime as d\n",
        "print(d.datetime.now())"
      ],
      "metadata": {
        "id": "RxUpDCfeKO4S",
        "colab": {
          "base_uri": "https://localhost:8080/"
        },
        "outputId": "95243498-3218-492f-dbd7-00c872276f23"
      },
      "execution_count": null,
      "outputs": [
        {
          "output_type": "stream",
          "name": "stdout",
          "text": [
            "2022-11-15 20:48:25.312280\n"
          ]
        }
      ]
    },
    {
      "cell_type": "code",
      "source": [
        "help('modules')"
      ],
      "metadata": {
        "id": "4eHCLe12KPb2",
        "colab": {
          "base_uri": "https://localhost:8080/"
        },
        "outputId": "35e97c29-0afa-4259-acfc-e48beff8d9d1"
      },
      "execution_count": null,
      "outputs": [
        {
          "output_type": "stream",
          "name": "stdout",
          "text": [
            "\n",
            "Please wait a moment while I gather a list of all available modules...\n",
            "\n"
          ]
        },
        {
          "output_type": "stream",
          "name": "stderr",
          "text": [
            "/usr/local/lib/python3.7/dist-packages/IPython/kernel/__init__.py:13: ShimWarning: The `IPython.kernel` package has been deprecated since IPython 4.0.You should import from ipykernel or jupyter_client instead.\n",
            "  \"You should import from ipykernel or jupyter_client instead.\", ShimWarning)\n",
            "/usr/local/lib/python3.7/dist-packages/llvmlite/llvmpy/__init__.py:4: UserWarning: The module `llvmlite.llvmpy` is deprecated and will be removed in the future.\n",
            "  \"The module `llvmlite.llvmpy` is deprecated and will be removed in the \"\n",
            "/usr/local/lib/python3.7/dist-packages/llvmlite/llvmpy/core.py:9: UserWarning: The module `llvmlite.llvmpy.core` is deprecated and will be removed in the future. Equivalent functionality is provided by `llvmlite.ir`.\n",
            "  \"The module `llvmlite.llvmpy.core` is deprecated and will be removed in \"\n",
            "WARNING: AstropyDeprecationWarning: The private astropy._erfa module has been made into its own package, pyerfa, which is a dependency of astropy and can be imported directly using \"import erfa\" [astropy._erfa]\n",
            "WARNING:astropy:AstropyDeprecationWarning: The private astropy._erfa module has been made into its own package, pyerfa, which is a dependency of astropy and can be imported directly using \"import erfa\"\n",
            "/usr/local/lib/python3.7/dist-packages/caffe2/__init__.py:5: UserWarning: Caffe2 support is not fully enabled in this PyTorch build. Please enable Caffe2 by building PyTorch from source with `BUILD_CAFFE2=1` flag.\n",
            "  warnings.warn(\"Caffe2 support is not fully enabled in this PyTorch build. \"\n",
            "/usr/local/lib/python3.7/dist-packages/caffe2/proto/__init__.py:17: UserWarning: Caffe2 support is not enabled in this PyTorch build. Please enable Caffe2 by building PyTorch from source with `BUILD_CAFFE2=1` flag.\n",
            "  warnings.warn('Caffe2 support is not enabled in this PyTorch build. '\n",
            "/usr/local/lib/python3.7/dist-packages/caffe2/proto/__init__.py:17: UserWarning: Caffe2 support is not enabled in this PyTorch build. Please enable Caffe2 by building PyTorch from source with `BUILD_CAFFE2=1` flag.\n",
            "  warnings.warn('Caffe2 support is not enabled in this PyTorch build. '\n",
            "/usr/local/lib/python3.7/dist-packages/caffe2/python/__init__.py:9: UserWarning: Caffe2 support is not enabled in this PyTorch build. Please enable Caffe2 by building PyTorch from source with `BUILD_CAFFE2=1` flag.\n",
            "  warnings.warn('Caffe2 support is not enabled in this PyTorch build. '\n",
            "/usr/local/lib/python3.7/dist-packages/past/types/oldstr.py:5: DeprecationWarning:\n",
            "\n",
            "Using or importing the ABCs from 'collections' instead of from 'collections.abc' is deprecated since Python 3.3,and in 3.9 it will stop working\n",
            "\n",
            "/usr/local/lib/python3.7/dist-packages/intervaltree/intervaltree.py:37: DeprecationWarning:\n",
            "\n",
            "Using or importing the ABCs from 'collections' instead of from 'collections.abc' is deprecated since Python 3.3,and in 3.9 it will stop working\n",
            "\n",
            "/usr/local/lib/python3.7/dist-packages/jupyter_client/ssh/tunnel.py:57: DeprecationWarning:\n",
            "\n",
            "zmq.utils.strtypes is deprecated in pyzmq 23.\n",
            "\n",
            "/usr/local/lib/python3.7/dist-packages/librosa/core/constantq.py:1059: DeprecationWarning:\n",
            "\n",
            "`np.complex` is a deprecated alias for the builtin `complex`. To silence this warning, use `complex` by itself. Doing this will not modify any behavior and is safe. If you specifically wanted the numpy scalar type, use `np.complex128` here.\n",
            "Deprecated in NumPy 1.20; for more details and guidance: https://numpy.org/devdocs/release/1.20.0-notes.html#deprecations\n",
            "\n"
          ]
        },
        {
          "output_type": "stream",
          "name": "stdout",
          "text": [
            "Downloading http://dlib.net/files/shape_predictor_68_face_landmarks.dat.bz2 to /root/mlxtend_data/shape_predictor_68_face_landmarks.dat.bz2\n"
          ]
        },
        {
          "output_type": "stream",
          "name": "stderr",
          "text": [
            "/usr/local/lib/python3.7/dist-packages/nbconvert/filters/strings.py:22: DeprecationWarning:\n",
            "\n",
            "defusedxml.cElementTree is deprecated, import from defusedxml.ElementTree instead.\n",
            "\n",
            "/usr/local/lib/python3.7/dist-packages/nibabel/quaternions.py:31: DeprecationWarning:\n",
            "\n",
            "`np.float` is a deprecated alias for the builtin `float`. To silence this warning, use `float` by itself. Doing this will not modify any behavior and is safe. If you specifically wanted the numpy scalar type, use `np.float64` here.\n",
            "Deprecated in NumPy 1.20; for more details and guidance: https://numpy.org/devdocs/release/1.20.0-notes.html#deprecations\n",
            "\n",
            "/usr/lib/python3.7/pkgutil.py:92: UserWarning:\n",
            "\n",
            "The DICOM readers are highly experimental, unstable, and only work for Siemens time-series at the moment\n",
            "Please use with caution.  We would be grateful for your help in improving them\n",
            "\n",
            "/usr/local/lib/python3.7/dist-packages/nltk/twitter/__init__.py:21: UserWarning:\n",
            "\n",
            "The twython library has not been installed. Some functionality from the twitter package will not be available.\n",
            "\n",
            "/usr/local/lib/python3.7/dist-packages/pip/_vendor/packaging/version.py:130: DeprecationWarning:\n",
            "\n",
            "Creating a LegacyVersion has been deprecated and will be removed in the next major release\n",
            "\n",
            "/usr/local/lib/python3.7/dist-packages/pip/_vendor/packaging/version.py:130: DeprecationWarning:\n",
            "\n",
            "Creating a LegacyVersion has been deprecated and will be removed in the next major release\n",
            "\n",
            "/usr/lib/python3.7/pkgutil.py:92: UserWarning: Viewer requires Qt\n",
            "/usr/local/lib/python3.7/dist-packages/sphinx/websupport/__init__.py:25: RemovedInSphinx20Warning: sphinx.websupport module is now provided as sphinxcontrib-websupport. sphinx.websupport will be removed at Sphinx-2.0. Please use the package instead.\n",
            "/usr/local/lib/python3.7/dist-packages/marshmallow/fields.py:573: RemovedInMarshmallow4Warning: The 'missing' argument to fields is deprecated. Use 'load_default' instead.\n",
            "/usr/local/lib/python3.7/dist-packages/tensorboard/_vendor/html5lib/filters/sanitizer.py:29: DeprecationWarning: html5lib's sanitizer is deprecated; see https://github.com/html5lib/html5lib-python/issues/443 and please let us know if Bleach is unsuitable for your needs\n",
            "/usr/local/lib/python3.7/dist-packages/torch/distributed/_sharded_tensor/__init__.py:10: DeprecationWarning: torch.distributed._sharded_tensor will be deprecated, use torch.distributed._shard.sharded_tensor instead\n",
            "/usr/local/lib/python3.7/dist-packages/torch/distributed/_sharding_spec/__init__.py:10: DeprecationWarning: torch.distributed._sharding_spec will be deprecated, use torch.distributed._shard.sharding_spec instead\n"
          ]
        },
        {
          "output_type": "stream",
          "name": "stdout",
          "text": [
            "No CUDA runtime is found, using CUDA_HOME='/usr/local/cuda'\n"
          ]
        },
        {
          "output_type": "stream",
          "name": "stderr",
          "text": [
            "/usr/lib/python3.7/pkgutil.py:107: VisibleDeprecationWarning: zmq.eventloop.minitornado is deprecated in pyzmq 14.0 and will be removed.\n",
            "    Install tornado itself to use zmq with the tornado IOLoop.\n",
            "    \n"
          ]
        },
        {
          "output_type": "stream",
          "name": "stdout",
          "text": [
            "Cython              colorcet            jupyterlab_widgets  reprlib\n",
            "IPython             colorlover          kaggle              requests\n",
            "OpenGL              colorsys            kanren              requests_oauthlib\n",
            "PIL                 community           kapre               resampy\n",
            "ScreenResolution    compileall          keras               resource\n",
            "__future__          concurrent          keras_preprocessing rlcompleter\n",
            "_abc                confection          keyword             rmagic\n",
            "_ast                configparser        kiwisolver          rpy2\n",
            "_asyncio            cons                korean_lunar_calendar rsa\n",
            "_bisect             contextlib          langcodes           runpy\n",
            "_blake2             contextlib2         lib2to3             sched\n",
            "_bootlocale         contextvars         libfuturize         scipy\n",
            "_bz2                convertdate         libpasteurize       scs\n",
            "_cffi_backend       copy                librosa             seaborn\n",
            "_codecs             copyreg             lightgbm            secrets\n",
            "_codecs_cn          crashtest           linecache           select\n",
            "_codecs_hk          crcmod              llvmlite            selectors\n",
            "_codecs_iso2022     crypt               lmdb                send2trash\n",
            "_codecs_jp          csimdjson           locale              setuptools\n",
            "_codecs_kr          csv                 locket              setuptools_git\n",
            "_codecs_tw          ctypes              logging             shapely\n",
            "_collections        cufflinks           lsb_release         shelve\n",
            "_collections_abc    curses              lunarcalendar       shlex\n",
            "_compat_pickle      cv2                 lxml                shutil\n",
            "_compression        cvxopt              lzma                signal\n",
            "_contextvars        cvxpy               macpath             simdjson\n",
            "_crypt              cycler              mailbox             site\n",
            "_csv                cymem               mailcap             sitecustomize\n",
            "_ctypes             cython              markdown            six\n",
            "_ctypes_test        cythonmagic         markupsafe          skimage\n",
            "_curses             daft                marshal             sklearn\n",
            "_curses_panel       dask                marshmallow         sklearn_pandas\n",
            "_cvxcore            dataclasses         math                slugify\n",
            "_datetime           datascience         matplotlib          smart_open\n",
            "_dbm                datetime            matplotlib_venn     smtpd\n",
            "_decimal            dateutil            mimetypes           smtplib\n",
            "_distutils_hack     db_dtypes           missingno           sndhdr\n",
            "_dlib_pybind11      dbm                 mistune             snowballstemmer\n",
            "_dummy_thread       dbus                mizani              socket\n",
            "_ecos               debugpy             mlxtend             socketserver\n",
            "_elementtree        decimal             mmap                socks\n",
            "_functools          decorator           modulefinder        sockshandler\n",
            "_hashlib            defusedxml          more_itertools      softwareproperties\n",
            "_heapq              descartes           moviepy             sortedcontainers\n",
            "_imp                difflib             mpmath              soundfile\n",
            "_io                 dill                msgpack             spacy\n",
            "_json               dis                 multidict           spacy_legacy\n",
            "_locale             distributed         multipledispatch    spacy_loggers\n",
            "_lsprof             distutils           multiprocessing     sphinx\n",
            "_lzma               dlib                multitasking        spwd\n",
            "_markupbase         dns                 murmurhash          sql\n",
            "_md5                docs                music21             sqlalchemy\n",
            "_multibytecodec     doctest             natsort             sqlite3\n",
            "_multiprocessing    docutils            nbconvert           sqlparse\n",
            "_opcode             dopamine            nbformat            sre_compile\n",
            "_operator           dot_parser          netCDF4             sre_constants\n",
            "_osx_support        dummy_threading     netrc               sre_parse\n",
            "_pickle             easydict            networkx            srsly\n",
            "_plotly_future_     ecos                nibabel             ssl\n",
            "_plotly_utils       editdistance        nis                 stan\n",
            "_posixsubprocess    ee                  nisext              stat\n",
            "_py_abc             email               nltk                statistics\n",
            "_pydecimal          en_core_web_sm      nntplib             statsmodels\n",
            "_pyio               encodings           notebook            storemagic\n",
            "_pyrsistent_version entrypoints         ntpath              string\n",
            "_pytest             enum                nturl2path          stringprep\n",
            "_queue              ephem               numba               struct\n",
            "_random             erfa                numbergen           subprocess\n",
            "_rinterface_cffi_abi errno               numbers             sunau\n",
            "_rinterface_cffi_api et_xmlfile          numexpr             symbol\n",
            "_scs_direct         etils               numpy               sympy\n",
            "_scs_indirect       etuples             oauth2client        sympyprinting\n",
            "_sha1               fa2                 oauthlib            symtable\n",
            "_sha256             fastai              ogr                 sys\n",
            "_sha3               fastcore            okgrade             sysconfig\n",
            "_sha512             fastdownload        opcode              syslog\n",
            "_signal             fastdtw             openpyxl            tables\n",
            "_sitebuiltins       fastjsonschema      operator            tabnanny\n",
            "_socket             fastprogress        opt_einsum          tabulate\n",
            "_soundfile          fastrlock           optparse            tarfile\n",
            "_sqlite3            faulthandler        os                  tblib\n",
            "_sre                fcntl               osgeo               telnetlib\n",
            "_ssl                feather             osqp                tempfile\n",
            "_stat               filecmp             osqppurepy          tenacity\n",
            "_string             fileinput           osr                 tensorboard\n",
            "_strptime           filelock            ossaudiodev         tensorboard_data_server\n",
            "_struct             firebase_admin      packaging           tensorboard_plugin_wit\n",
            "_symtable           fix_yahoo_finance   palettable          tensorflow\n",
            "_sysconfigdata_m_linux_x86_64-linux-gnu flask               pandas              tensorflow_datasets\n",
            "_sysconfigdata_m_x86_64-linux-gnu flatbuffers         pandas_datareader   tensorflow_estimator\n",
            "_testbuffer         fnmatch             pandas_gbq          tensorflow_gcs_config\n",
            "_testcapi           folium              pandas_profiling    tensorflow_hub\n",
            "_testimportmultiple formatter           pandocfilters       tensorflow_io_gcs_filesystem\n",
            "_testmultiphase     fractions           panel               tensorflow_metadata\n",
            "_thread             frozenlist          param               tensorflow_probability\n",
            "_threading_local    fsspec              parser              termcolor\n",
            "_tkinter            ftplib              parso               terminado\n",
            "_tracemalloc        functools           partd               termios\n",
            "_warnings           future              past                test\n",
            "_weakref            gast                pasta               testpath\n",
            "_weakrefset         gc                  pastel              tests\n",
            "_xxtestfuzz         gdal                pathlib             text_unidecode\n",
            "_yaml               gdalconst           pathy               textblob\n",
            "abc                 gdalnumeric         patsy               textwrap\n",
            "absl                gdown               pdb                 thinc\n",
            "aeppl               genericpath         pep517              this\n",
            "aesara              gensim              pexpect             threading\n",
            "aifc                geographiclib       pickle              threadpoolctl\n",
            "aiohttp             geopy               pickleshare         tifffile\n",
            "aiosignal           getopt              pickletools         time\n",
            "alabaster           getpass             pip                 timeit\n",
            "albumentations      gettext             pipes               tkinter\n",
            "altair              gi                  piptools            tlz\n",
            "antigravity         gin                 pkg_resources       token\n",
            "apiclient           glob                pkgutil             tokenize\n",
            "appdirs             glob2               platform            toml\n",
            "apt                 gnm                 plistlib            tomli\n",
            "apt_inst            google_auth_httplib2 plotly              toolz\n",
            "apt_pkg             google_auth_oauthlib plotlywidget        torch\n",
            "aptsources          google_crc32c       plotnine            torchaudio\n",
            "argparse            google_drive_downloader pluggy              torchgen\n",
            "array               googleapiclient     pooch               torchsummary\n",
            "arviz               googlesearch        poplib              torchtext\n",
            "ast                 graphviz            portpicker          torchvision\n",
            "astor               greenlet            posix               tornado\n",
            "astropy             gridfs              posixpath           tqdm\n",
            "astunparse          grp                 pprint              trace\n",
            "async_timeout       grpc                prefetch_generator  traceback\n",
            "asynchat            grpc_status         preshed             tracemalloc\n",
            "asyncio             gspread             prettytable         traitlets\n",
            "asyncore            gspread_dataframe   profile             tree\n",
            "asynctest           gym                 progressbar         tty\n",
            "atari_py            gym_notices         prometheus_client   turtle\n",
            "atexit              gzip                promise             tweepy\n",
            "atomicwrites        h5py                prompt_toolkit      typeguard\n",
            "attr                hashlib             prophet             typer\n",
            "attrs               heapdict            proto               types\n",
            "audioop             heapq               pstats              typing\n",
            "audioread           hijri_converter     psutil              typing_extensions\n",
            "autograd            hmac                psycopg2            tzlocal\n",
            "autoreload          holidays            pty                 unicodedata\n",
            "babel               holoviews           ptyprocess          unification\n",
            "backcall            html                pwd                 unittest\n",
            "base64              html5lib            py                  uritemplate\n",
            "bdb                 http                py_compile          urllib\n",
            "bin                 httpimport          pyarrow             urllib3\n",
            "binascii            httplib2            pyasn1              uu\n",
            "binhex              httpstan            pyasn1_modules      uuid\n",
            "bisect              humanize            pyclbr              vega_datasets\n",
            "bleach              hyperopt            pycocotools         venv\n",
            "blis                idna                pycparser           vis\n",
            "bokeh               imageio             pyct                warnings\n",
            "boost               imagesize           pydantic            wasabi\n",
            "branca              imaplib             pydata_google_auth  wave\n",
            "bs4                 imblearn            pydoc               wcwidth\n",
            "bson                imgaug              pydoc_data          weakref\n",
            "builtins            imghdr              pydot               webargs\n",
            "bz2                 imp                 pydot_ng            webbrowser\n",
            "cProfile            importlib           pydotplus           webencodings\n",
            "cachecontrol        importlib_metadata  pydrive             werkzeug\n",
            "cached_property     importlib_resources pyemd               wheel\n",
            "cachetools          imutils             pyexpat             widgetsnbextension\n",
            "caffe2              inflect             pygments            wordcloud\n",
            "calendar            inspect             pygtkcompat         wrapt\n",
            "catalogue           intervaltree        pylab               wsgiref\n",
            "certifi             io                  pylev               xarray\n",
            "cffi                ipaddress           pymc                xarray_einstats\n",
            "cftime              ipykernel           pymeeus             xdrlib\n",
            "cgi                 ipykernel_launcher  pymongo             xgboost\n",
            "cgitb               ipython_genutils    pymystem3           xkit\n",
            "chardet             ipywidgets          pyparsing           xlrd\n",
            "charset_normalizer  isympy              pyrsistent          xlwt\n",
            "chunk               itertools           pysndfile           xml\n",
            "clang               itsdangerous        pytest              xmlrpc\n",
            "click               jax                 python_utils        xxlimited\n",
            "client              jaxlib              pytz                xxsubtype\n",
            "clikit              jieba               pyviz_comms         yaml\n",
            "cloudpickle         jinja2              pywt                yarl\n",
            "cmake               joblib              pyximport           yellowbrick\n",
            "cmath               jpeg4py             qdldl               zict\n",
            "cmd                 json                qudida              zipapp\n",
            "cmdstanpy           jsonschema          queue               zipfile\n",
            "code                jupyter             quopri              zipimport\n",
            "codecs              jupyter_client      random              zipp\n",
            "codeop              jupyter_console     re                  zlib\n",
            "colab               jupyter_core        readline            zmq\n",
            "collections         jupyterlab_plotly   regex               \n",
            "\n",
            "Enter any module name to get more help.  Or, type \"modules spam\" to search\n",
            "for modules whose name or summary contain the string \"spam\".\n",
            "\n"
          ]
        }
      ]
    },
    {
      "cell_type": "code",
      "source": [],
      "metadata": {
        "id": "WuvEAAb_Hn3G"
      },
      "execution_count": null,
      "outputs": []
    },
    {
      "cell_type": "markdown",
      "source": [
        "#**Loops in Python**"
      ],
      "metadata": {
        "id": "kt4kr4zIDvgm"
      }
    },
    {
      "cell_type": "markdown",
      "source": [
        "\n",
        "\n",
        "*   Need for loops\n",
        "\n",
        "*   While Loop\n",
        "*   For loop\n",
        "\n",
        "\n",
        "\n"
      ],
      "metadata": {
        "id": "oMPOIHbdD6sZ"
      }
    },
    {
      "cell_type": "code",
      "source": [
        "#While loop example ---> program to print the table\n",
        "number =int(input('enter the number'))\n",
        "i = 1\n",
        "while i< 11:\n",
        "  print (number,\"*\",i,\"=\",number * i)\n",
        "  i += 1"
      ],
      "metadata": {
        "colab": {
          "base_uri": "https://localhost:8080/"
        },
        "id": "yuoHrRNeD5qU",
        "outputId": "ee5dcbc3-1547-4ed2-faf5-841ddf452b46"
      },
      "execution_count": null,
      "outputs": [
        {
          "output_type": "stream",
          "name": "stdout",
          "text": [
            "enter the number10\n",
            "10 * 1 = 10\n",
            "10 * 2 = 20\n",
            "10 * 3 = 30\n",
            "10 * 4 = 40\n",
            "10 * 5 = 50\n",
            "10 * 6 = 60\n",
            "10 * 7 = 70\n",
            "10 * 8 = 80\n",
            "10 * 9 = 90\n",
            "10 * 10 = 100\n"
          ]
        }
      ]
    },
    {
      "cell_type": "code",
      "source": [
        "#while loop with else\n",
        "x=1\n",
        "while x<3:\n",
        "  print(x)\n",
        "  x+=1\n",
        "\n",
        "else:\n",
        "  print(\"Limit crossed \")"
      ],
      "metadata": {
        "colab": {
          "base_uri": "https://localhost:8080/"
        },
        "id": "kmaMbHwXD3cO",
        "outputId": "b9704924-361b-4a04-9b04-355b4a87dd82"
      },
      "execution_count": null,
      "outputs": [
        {
          "output_type": "stream",
          "name": "stdout",
          "text": [
            "1\n",
            "2\n",
            "Limit crossed \n"
          ]
        }
      ]
    },
    {
      "cell_type": "code",
      "source": [
        "#Guessing game\n",
        "#generate a random integer between 1 and 100\n",
        "import random as r\n",
        "jackpot = r.randint(1,100)\n",
        "counter = 1\n",
        "\n",
        "guess=int(input(\"guess karo\"))\n",
        "while guess!=jackpot:\n",
        "    if guess < jackpot :\n",
        "       print (\"galat! guess higher\")\n",
        "    else:\n",
        "       print(\"galat! guess lower\")\n",
        "    guess =int(input('guess karo'))\n",
        "    counter +=1\n",
        "\n",
        "else:\n",
        "  print(\"correct guess\")\n",
        "  print(\"attempts\",counter)\n"
      ],
      "metadata": {
        "colab": {
          "base_uri": "https://localhost:8080/"
        },
        "id": "1KGwjOHrHakd",
        "outputId": "5a1e5c14-bfed-4d32-88b4-de4ce159b4dc"
      },
      "execution_count": null,
      "outputs": [
        {
          "output_type": "stream",
          "name": "stdout",
          "text": [
            "guess karo45\n",
            "galat! guess lower\n",
            "guess karo35\n",
            "galat! guess lower\n",
            "guess karo25\n",
            "galat! guess higher\n",
            "guess karo30\n",
            "correct guess\n",
            "attempts 4\n"
          ]
        }
      ]
    },
    {
      "cell_type": "code",
      "source": [
        "#For loop demo\n",
        "\n",
        "for i in range(1,11):\n",
        "  print(i)\n"
      ],
      "metadata": {
        "colab": {
          "base_uri": "https://localhost:8080/"
        },
        "id": "Rabf84LBJ8xj",
        "outputId": "8b327471-40e4-4bcb-a520-2fd947dba001"
      },
      "execution_count": null,
      "outputs": [
        {
          "output_type": "stream",
          "name": "stdout",
          "text": [
            "1\n",
            "2\n",
            "3\n",
            "4\n",
            "5\n",
            "6\n",
            "7\n",
            "8\n",
            "9\n",
            "10\n"
          ]
        }
      ]
    },
    {
      "cell_type": "code",
      "source": [
        "#For loop examples"
      ],
      "metadata": {
        "id": "PZ5eXn-hKGDJ"
      },
      "execution_count": null,
      "outputs": []
    },
    {
      "cell_type": "markdown",
      "source": [
        "### Program - The current population of a town is 10000. The population of the town is increasing at the rate of 10% per year. You have to write a program to find out the population at the end of each of the last 10 years.\n"
      ],
      "metadata": {
        "id": "7KllsTZB7j5H"
      }
    },
    {
      "cell_type": "code",
      "source": [
        "current_pop = int(input(\"Enter the current population of the town\"))\n",
        "\n",
        "for i in range(10,0,-1):\n",
        "  print(i,round(current_pop))\n",
        "  current_pop= current_pop /1.1"
      ],
      "metadata": {
        "colab": {
          "base_uri": "https://localhost:8080/"
        },
        "id": "lrThnIQo7k9L",
        "outputId": "c0ddf10a-da95-441f-fd93-1c19ee703415"
      },
      "execution_count": null,
      "outputs": [
        {
          "output_type": "stream",
          "name": "stdout",
          "text": [
            "Enter the current population of the town10000\n",
            "10 10000\n",
            "9 9091\n",
            "8 8264\n",
            "7 7513\n",
            "6 6830\n",
            "5 6209\n",
            "4 5645\n",
            "3 5132\n",
            "2 4665\n",
            "1 4241\n"
          ]
        }
      ]
    },
    {
      "cell_type": "markdown",
      "source": [
        "# sequence sum\n"
      ],
      "metadata": {
        "id": "RVEaFxiv9ONc"
      }
    },
    {
      "cell_type": "markdown",
      "source": [
        "1/1!+2/2!+3/3!+..."
      ],
      "metadata": {
        "id": "OS0loxS99Vlt"
      }
    },
    {
      "cell_type": "code",
      "source": [
        "#Code here\n",
        "\n",
        "n = int(input(\"Enter the number\"))\n",
        "#suppose we have to find sum of 1+2+3+4+...\n",
        "\n",
        "result = 0\n",
        "fact = 1\n",
        "for i in range(1,n+1):\n",
        "  fact = fact * i\n",
        "  result = result + i/fact\n",
        "\n",
        "print(result)"
      ],
      "metadata": {
        "colab": {
          "base_uri": "https://localhost:8080/"
        },
        "id": "nsDeJPkt8y5H",
        "outputId": "dfe591a1-a533-4c0e-dd60-5fc356635154"
      },
      "execution_count": null,
      "outputs": [
        {
          "output_type": "stream",
          "name": "stdout",
          "text": [
            "Enter the number2\n",
            "2.0\n"
          ]
        }
      ]
    },
    {
      "cell_type": "markdown",
      "source": [
        "# **Nested loop**"
      ],
      "metadata": {
        "id": "LFV06GOIBcNY"
      }
    },
    {
      "cell_type": "code",
      "source": [
        "#Examples -> unique pairs\n",
        "\n",
        "for i in range(1,5):\n",
        "  for j in range(1,5):\n",
        "    print(i,j)"
      ],
      "metadata": {
        "colab": {
          "base_uri": "https://localhost:8080/"
        },
        "id": "qhrIZ2QABgQg",
        "outputId": "b99ff445-a263-4cc1-a041-8b3bdb863e90"
      },
      "execution_count": null,
      "outputs": [
        {
          "output_type": "stream",
          "name": "stdout",
          "text": [
            "1 1\n",
            "1 2\n",
            "1 3\n",
            "1 4\n",
            "2 1\n",
            "2 2\n",
            "2 3\n",
            "2 4\n",
            "3 1\n",
            "3 2\n",
            "3 3\n",
            "3 4\n",
            "4 1\n",
            "4 2\n",
            "4 3\n",
            "4 4\n"
          ]
        }
      ]
    },
    {
      "cell_type": "code",
      "source": [],
      "metadata": {
        "id": "CsKrLHhkCIWb"
      },
      "execution_count": null,
      "outputs": []
    }
  ]
}