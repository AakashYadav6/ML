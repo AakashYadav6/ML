{
  "nbformat": 4,
  "nbformat_minor": 0,
  "metadata": {
    "colab": {
      "provenance": [],
      "authorship_tag": "ABX9TyM42H4IVxU/iwSI36FFVQpJ",
      "include_colab_link": true
    },
    "kernelspec": {
      "name": "python3",
      "display_name": "Python 3"
    },
    "language_info": {
      "name": "python"
    }
  },
  "cells": [
    {
      "cell_type": "markdown",
      "metadata": {
        "id": "view-in-github",
        "colab_type": "text"
      },
      "source": [
        "<a href=\"https://colab.research.google.com/github/AakashYadav6/ML/blob/main/Aakash_Session6_Functions.ipynb\" target=\"_parent\"><img src=\"https://colab.research.google.com/assets/colab-badge.svg\" alt=\"Open In Colab\"/></a>"
      ]
    },
    {
      "cell_type": "code",
      "execution_count": null,
      "metadata": {
        "id": "UcZgRAIOqA7b"
      },
      "outputs": [],
      "source": [
        "#Aakash Yadav\n",
        "\n",
        "#session 6 functions\n"
      ]
    },
    {
      "cell_type": "markdown",
      "source": [
        "#Let's create a function (with docstring)\n"
      ],
      "metadata": {
        "id": "k5h6dugNty5V"
      }
    },
    {
      "cell_type": "code",
      "source": [
        "def is_even(num):\n",
        "  \"\"\"\n",
        "   this function returns if a given number is odd or even\n",
        "   input - any valid integer\n",
        "   output - odd/even\n",
        "   created on -16th Nov 2022\n",
        "\n",
        "  \"\"\"\n",
        "  if type(num) ==int:\n",
        "    if num %2 == 0:\n",
        "       return 'even'\n",
        "    else:\n",
        "      return \"odd\"\n",
        "  else:\n",
        "   print(\"please enter only integer value\")\n"
      ],
      "metadata": {
        "id": "rqA6B3vztfpP"
      },
      "execution_count": null,
      "outputs": []
    },
    {
      "cell_type": "code",
      "source": [
        "#function\n",
        "\n",
        "#while creating function it is  called parameter and while using it is called as argument\n",
        "#function_name(input)\n",
        "for i in range(1,11):\n",
        "  x =is_even(i)\n",
        "  print(x)"
      ],
      "metadata": {
        "colab": {
          "base_uri": "https://localhost:8080/"
        },
        "id": "pqmHqiG3udpO",
        "outputId": "d5f501ea-49d9-4a48-d195-72837fb5c8c3"
      },
      "execution_count": null,
      "outputs": [
        {
          "output_type": "stream",
          "name": "stdout",
          "text": [
            "odd\n",
            "even\n",
            "odd\n",
            "even\n",
            "odd\n",
            "even\n",
            "odd\n",
            "even\n",
            "odd\n",
            "even\n"
          ]
        }
      ]
    },
    {
      "cell_type": "markdown",
      "source": [
        "#2 point of view"
      ],
      "metadata": {
        "id": "2Tv9YbwTvNgY"
      }
    },
    {
      "cell_type": "code",
      "source": [
        "is_even('hello')"
      ],
      "metadata": {
        "colab": {
          "base_uri": "https://localhost:8080/"
        },
        "id": "bbsMb2qhurnJ",
        "outputId": "8edf1777-49a8-4fa6-aaa7-76fde2ff7f22"
      },
      "execution_count": null,
      "outputs": [
        {
          "output_type": "stream",
          "name": "stdout",
          "text": [
            "please enter only integer value\n"
          ]
        }
      ]
    },
    {
      "cell_type": "markdown",
      "source": [
        "### Types of Arguments\n",
        "\n",
        "- Default Argument\n",
        "- Positional Argument\n",
        "- Keyword Argument"
      ],
      "metadata": {
        "id": "q6c0UcG-wugA"
      }
    },
    {
      "cell_type": "code",
      "source": [
        "def power(a = 1,b =1):\n",
        "  return a**b"
      ],
      "metadata": {
        "id": "KSuYVLXywvP9"
      },
      "execution_count": null,
      "outputs": []
    },
    {
      "cell_type": "code",
      "source": [
        "power()"
      ],
      "metadata": {
        "colab": {
          "base_uri": "https://localhost:8080/"
        },
        "id": "tSy6VAznw7_M",
        "outputId": "7a77fad1-7fb7-4b84-d078-3ce8c15a0df4"
      },
      "execution_count": null,
      "outputs": [
        {
          "output_type": "execute_result",
          "data": {
            "text/plain": [
              "1"
            ]
          },
          "metadata": {},
          "execution_count": 18
        }
      ]
    },
    {
      "cell_type": "code",
      "source": [
        "#positional argument\n",
        "power(2,3)"
      ],
      "metadata": {
        "colab": {
          "base_uri": "https://localhost:8080/"
        },
        "id": "M-VlwhaDw8Dy",
        "outputId": "5175d522-3333-4996-9777-b82d9a1c646d"
      },
      "execution_count": null,
      "outputs": [
        {
          "output_type": "execute_result",
          "data": {
            "text/plain": [
              "8"
            ]
          },
          "metadata": {},
          "execution_count": 19
        }
      ]
    },
    {
      "cell_type": "code",
      "source": [
        "#keyword argument\n",
        "power(b=4,a=5)"
      ],
      "metadata": {
        "colab": {
          "base_uri": "https://localhost:8080/"
        },
        "id": "dHtk9Fkj2jqC",
        "outputId": "5491be46-be9a-449b-e8cb-a07dfa076a53"
      },
      "execution_count": null,
      "outputs": [
        {
          "output_type": "execute_result",
          "data": {
            "text/plain": [
              "625"
            ]
          },
          "metadata": {},
          "execution_count": 20
        }
      ]
    },
    {
      "cell_type": "markdown",
      "source": [
        "### `*args and **kwargs`\n",
        "`*args and **kwargs` are special Python keywords that are used to pass the variable length of arguments to a function"
      ],
      "metadata": {
        "id": "vB4WPl034ciH"
      }
    },
    {
      "cell_type": "code",
      "source": [
        "#args\n",
        "#allows us to pass a variable number of non-keyword arguments to a function\n",
        "\n",
        "def multiply(*args):\n",
        "  product = 1\n",
        "\n",
        "  for i in args:\n",
        "    product =product * i\n",
        "\n",
        "  print(args)\n",
        "  return product"
      ],
      "metadata": {
        "id": "QUcWMRcx3xYt"
      },
      "execution_count": null,
      "outputs": []
    },
    {
      "cell_type": "code",
      "source": [
        "multiply(1,2,3,4)"
      ],
      "metadata": {
        "colab": {
          "base_uri": "https://localhost:8080/"
        },
        "id": "Q9PKFQZs2c0u",
        "outputId": "d3d54a59-aab3-4154-e331-768357a73462"
      },
      "execution_count": null,
      "outputs": [
        {
          "output_type": "stream",
          "name": "stdout",
          "text": [
            "(1, 2, 3, 4)\n"
          ]
        },
        {
          "output_type": "execute_result",
          "data": {
            "text/plain": [
              "24"
            ]
          },
          "metadata": {},
          "execution_count": 3
        }
      ]
    },
    {
      "cell_type": "code",
      "source": [
        "print(print.__doc__)"
      ],
      "metadata": {
        "colab": {
          "base_uri": "https://localhost:8080/"
        },
        "id": "1B5Pvo6-3DYH",
        "outputId": "9ac6e206-2aac-4575-d52b-fa7cdcb9f7d5"
      },
      "execution_count": null,
      "outputs": [
        {
          "output_type": "stream",
          "name": "stdout",
          "text": [
            "print(value, ..., sep=' ', end='\\n', file=sys.stdout, flush=False)\n",
            "\n",
            "Prints the values to a stream, or to sys.stdout by default.\n",
            "Optional keyword arguments:\n",
            "file:  a file-like object (stream); defaults to the current sys.stdout.\n",
            "sep:   string inserted between values, default a space.\n",
            "end:   string appended after the last value, default a newline.\n",
            "flush: whether to forcibly flush the stream.\n"
          ]
        }
      ]
    },
    {
      "cell_type": "code",
      "source": [
        "print(is_even.__doc__)"
      ],
      "metadata": {
        "colab": {
          "base_uri": "https://localhost:8080/"
        },
        "id": "25Oi0kyo2diZ",
        "outputId": "812fdd64-4c30-490f-e718-daba7278f08f"
      },
      "execution_count": null,
      "outputs": [
        {
          "output_type": "stream",
          "name": "stdout",
          "text": [
            "\n",
            "   this function returns if a given number is odd or even\n",
            "   input - any valid integer\n",
            "   output - odd/even\n",
            "   created on -16th Nov 2022\n",
            "\n",
            "  \n"
          ]
        }
      ]
    },
    {
      "cell_type": "code",
      "source": [
        "# **kwargs\n",
        "# **kwargs allows us to pass any number of keyword arguments.\n",
        "# Keyword arguments mean that they contain a key-value pair, like a Python dictionary.\n",
        "\n",
        "\n",
        "def display(**kwargs):\n",
        "  for (key,value) in kwargs.items():\n",
        "    print(key,'->',value)"
      ],
      "metadata": {
        "id": "qphDgqr42oaJ"
      },
      "execution_count": null,
      "outputs": []
    },
    {
      "cell_type": "code",
      "source": [
        "display(india='delhi',srilanka='colombo',nepal='kathmadu')"
      ],
      "metadata": {
        "colab": {
          "base_uri": "https://localhost:8080/"
        },
        "id": "2MMZUCez3KIQ",
        "outputId": "4221ff4a-65fe-4b63-fd48-6007e8b7d519"
      },
      "execution_count": null,
      "outputs": [
        {
          "output_type": "stream",
          "name": "stdout",
          "text": [
            "india -> delhi\n",
            "srilanka -> colombo\n",
            "nepal -> kathmadu\n"
          ]
        }
      ]
    },
    {
      "cell_type": "markdown",
      "source": [
        "##### Points to remember while using `*args and **kwargs`\n",
        "\n",
        "- order of the arguments matter(normal -> `*args` -> `**kwargs`)\n",
        "- The words “args” and “kwargs” are only a convention, you can use any name of your choice\n"
      ],
      "metadata": {
        "id": "iHHVQgbQ3sNU"
      }
    },
    {
      "cell_type": "code",
      "source": [],
      "metadata": {
        "id": "vVESKZMQ3een"
      },
      "execution_count": null,
      "outputs": []
    }
  ]
}